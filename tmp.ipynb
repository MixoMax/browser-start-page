{
 "cells": [
  {
   "cell_type": "code",
   "execution_count": 31,
   "metadata": {},
   "outputs": [],
   "source": [
    "import requests\n",
    "import httpx\n",
    "import bs4\n",
    "import urllib.parse\n",
    "import random"
   ]
  },
  {
   "cell_type": "code",
   "execution_count": 44,
   "metadata": {},
   "outputs": [],
   "source": [
    "def get_random_header():\n",
    "\n",
    "    user_agents = [\n",
    "        \"Mozilla/5.0 (Windows NT 10.0; Win64; x64) AppleWebKit/537.36 (KHTML, like Gecko) Chrome/120.0.0.0 Safari/537.3\",\n",
    "        \"Mozilla/5.0 (Macintosh; Intel Mac OS X 10_15_7) AppleWebKit/537.36 (KHTML, like Gecko) Chrome/120.0.0.0 Safari/537.36\",\n",
    "        \"Mozilla/5.0 (Macintosh; Intel Mac OS X 14.1; rv:109.0) Gecko/20100101 Firefox/121.0\",\n",
    "        \"Mozilla/5.0 (Windows NT 10.0; Win64; x64) AppleWebKit/537.36 (KHTML, like Gecko) Chrome/120.0.0.0 Safari/537.36 Edg/120.0.2210.89\",\n",
    "        \"Mozilla/5.0 (Windows NT 10.0; Win64; x64; rv:109.0) Gecko/20100101 Firefox/121.0\",\n",
    "        \"Mozilla/5.0 (Macintosh; Intel Mac OS X 14_1) AppleWebKit/605.1.15 (KHTML, like Gecko) Version/17.1 Safari/605.1.15\",\n",
    "    ]\n",
    "\n",
    "\n",
    "    headers = {\n",
    "        \"User-Agent\": random.choice(user_agents), # Choose a user-agent at random\n",
    "        \"Accept\": \"text/html,application/xhtml+xml,application/xml;q=0.9,image/avif,image/webp,*/*;q=0.8\",\n",
    "        \"Accept-Encoding\": \"gzip, deflate\",\n",
    "        \"Accept-Language\": \"en-US,en;q=0.5\",\n",
    "        \"Dnt\": \"1\",\n",
    "        \"Sec-Fetch-Dest\": \"document\",\n",
    "        \"Sec-Fetch-Mode\": \"navigate\",\n",
    "        \"Sec-Fetch-Site\": \"none\",\n",
    "        \"Sec-Fetch-User\": \"?1\",\n",
    "        \"Upgrade-Insecure-Requests\": \"1\"\n",
    "    }\n",
    "\n",
    "    return headers"
   ]
  },
  {
   "cell_type": "code",
   "execution_count": 43,
   "metadata": {},
   "outputs": [],
   "source": [
    "requests.packages.urllib3.util.connection.HAS_IPV6 = False\n",
    "\n",
    "transport = httpx.HTTPTransport(local_address=\"0.0.0.0\")\n",
    "limits = httpx.Limits(max_keepalive_connections=None, max_connections=None, keepalive_expiry=None)\n",
    "\n",
    "google = httpx.Client(http2=True, follow_redirects=True, transport=transport, limits=limits)\n",
    "#google.headers.update({'User-Agent': 'Mozilla/5.0 (Macintosh; Intel Mac OS X 14.1; rv:109.0) Gecko/20100101 Firefox/121.0\"'})"
   ]
  },
  {
   "cell_type": "code",
   "execution_count": 47,
   "metadata": {},
   "outputs": [
    {
     "name": "stdout",
     "output_type": "stream",
     "text": [
      "Gold Ingot: https://minecraft.wiki/w/Gold_Ingot\n",
      "Gold: https://minecraft.wiki/w/Gold\n",
      "Dungeons:Gold: https://minecraft.wiki/w/Dungeons:Gold\n",
      "Bartering: https://minecraft.wiki/w/Bartering\n",
      "Block of Gold: https://minecraft.wiki/w/Block_of_Gold\n",
      "Golden Leggings: https://minecraft.wiki/w/Golden_Leggings\n",
      "Gold Nugget: https://minecraft.wiki/w/Gold_Nugget\n",
      "Piglin: https://minecraft.wiki/w/Piglin\n",
      "Metal: https://minecraft.wiki/w/Metal\n"
     ]
    }
   ],
   "source": [
    "def google_search(q:str):\n",
    "    q = urllib.parse.quote_plus(q)\n",
    "    url = f\"https://www.google.com/search?gl=us&hl=en&pws=0&gws_rd=cr&num=10&q={q}\"\n",
    "\n",
    "    headers = get_random_header()\n",
    "    response = google.get(url, headers=headers)\n",
    "\n",
    "    with open(\"google.html\", \"w\") as f:\n",
    "        f.write(response.text)\n",
    "\n",
    "    soup = bs4.BeautifulSoup(response.text, \"html.parser\")\n",
    "\n",
    "    result_divs = soup.find_all(\"div\", {\"class\": \"yuRUbf\"})\n",
    "\n",
    "    for div in result_divs:\n",
    "        a = div.find(\"a\")\n",
    "        href = a[\"href\"]\n",
    "        title = a.find(\"h3\").text\n",
    "        print(f\"{title}: {href}\")\n",
    "\n",
    "\n",
    "google_search(\"Gold Ingot site:minecraft.wiki\")"
   ]
  }
 ],
 "metadata": {
  "kernelspec": {
   "display_name": "base",
   "language": "python",
   "name": "python3"
  },
  "language_info": {
   "codemirror_mode": {
    "name": "ipython",
    "version": 3
   },
   "file_extension": ".py",
   "mimetype": "text/x-python",
   "name": "python",
   "nbconvert_exporter": "python",
   "pygments_lexer": "ipython3",
   "version": "3.12.3"
  }
 },
 "nbformat": 4,
 "nbformat_minor": 2
}
