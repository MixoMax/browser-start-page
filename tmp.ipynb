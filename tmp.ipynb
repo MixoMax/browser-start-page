{
 "cells": [
  {
   "cell_type": "code",
   "execution_count": 12,
   "metadata": {},
   "outputs": [],
   "source": [
    "import sqlite3\n",
    "from tqdm import tqdm"
   ]
  },
  {
   "cell_type": "code",
   "execution_count": 11,
   "metadata": {},
   "outputs": [],
   "source": [
    "conn = sqlite3.connect(\"./data/enwiki-articles.db\")\n",
    "c = conn.cursor()\n",
    "\n",
    "cmd = \"CREATE TABLE if not exists articles (title text)\"\n",
    "c.execute(cmd)\n",
    "conn.commit()"
   ]
  },
  {
   "cell_type": "code",
   "execution_count": 13,
   "metadata": {},
   "outputs": [
    {
     "name": "stderr",
     "output_type": "stream",
     "text": [
      "18058069it [02:11, 137552.69it/s]\n"
     ]
    }
   ],
   "source": [
    "insert_cmd = \"INSERT INTO articles (title) VALUES (?)\"\n",
    "\n",
    "with open(\"./data/enwiki-latest-all-titles-in-ns0.txt\",) as f:\n",
    "    for idx, line in tqdm(enumerate(f)):\n",
    "        c.execute(insert_cmd, (line.strip(),))\n",
    "        if idx % 1000 == 0:\n",
    "            conn.commit()\n",
    "    conn.commit()\n"
   ]
  }
 ],
 "metadata": {
  "kernelspec": {
   "display_name": "base",
   "language": "python",
   "name": "python3"
  },
  "language_info": {
   "codemirror_mode": {
    "name": "ipython",
    "version": 3
   },
   "file_extension": ".py",
   "mimetype": "text/x-python",
   "name": "python",
   "nbconvert_exporter": "python",
   "pygments_lexer": "ipython3",
   "version": "3.12.3"
  }
 },
 "nbformat": 4,
 "nbformat_minor": 2
}
